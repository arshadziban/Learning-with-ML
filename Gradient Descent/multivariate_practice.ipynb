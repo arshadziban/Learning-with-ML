{
  "nbformat": 4,
  "nbformat_minor": 0,
  "metadata": {
    "colab": {
      "provenance": [],
      "gpuType": "T4"
    },
    "kernelspec": {
      "name": "python3",
      "display_name": "Python 3"
    },
    "language_info": {
      "name": "python"
    },
    "accelerator": "GPU"
  },
  "cells": [
    {
      "cell_type": "code",
      "source": [
        "import numpy as np\n",
        "import pandas as pd"
      ],
      "metadata": {
        "id": "UieB5OdIc8MI"
      },
      "execution_count": 28,
      "outputs": []
    },
    {
      "cell_type": "code",
      "source": [
        "# Dataset\n",
        "data = {\n",
        "    'Area': [1500, 1800, 2400, 3000, 3500, 4000],\n",
        "    'Bedrooms': [3, 3, 4, 4, 5, 5],\n",
        "    'Price': [400000, 450000, 600000, 650000, 700000, 750000]\n",
        "}"
      ],
      "metadata": {
        "id": "VFT1UviZc_0Q"
      },
      "execution_count": 29,
      "outputs": []
    },
    {
      "cell_type": "code",
      "source": [
        "df = pd.DataFrame(data)"
      ],
      "metadata": {
        "id": "-0n6P79OdCRX"
      },
      "execution_count": 30,
      "outputs": []
    },
    {
      "cell_type": "code",
      "source": [
        "df"
      ],
      "metadata": {
        "colab": {
          "base_uri": "https://localhost:8080/",
          "height": 237
        },
        "id": "-9ORCAPBeRN7",
        "outputId": "d4f7c7bf-83ad-4690-f45a-ad9def27d0c8"
      },
      "execution_count": 31,
      "outputs": [
        {
          "output_type": "execute_result",
          "data": {
            "text/plain": [
              "   Area  Bedrooms   Price\n",
              "0  1500         3  400000\n",
              "1  1800         3  450000\n",
              "2  2400         4  600000\n",
              "3  3000         4  650000\n",
              "4  3500         5  700000\n",
              "5  4000         5  750000"
            ],
            "text/html": [
              "\n",
              "  <div id=\"df-3687aa71-83de-4ec7-b08e-3b1bdea53abe\" class=\"colab-df-container\">\n",
              "    <div>\n",
              "<style scoped>\n",
              "    .dataframe tbody tr th:only-of-type {\n",
              "        vertical-align: middle;\n",
              "    }\n",
              "\n",
              "    .dataframe tbody tr th {\n",
              "        vertical-align: top;\n",
              "    }\n",
              "\n",
              "    .dataframe thead th {\n",
              "        text-align: right;\n",
              "    }\n",
              "</style>\n",
              "<table border=\"1\" class=\"dataframe\">\n",
              "  <thead>\n",
              "    <tr style=\"text-align: right;\">\n",
              "      <th></th>\n",
              "      <th>Area</th>\n",
              "      <th>Bedrooms</th>\n",
              "      <th>Price</th>\n",
              "    </tr>\n",
              "  </thead>\n",
              "  <tbody>\n",
              "    <tr>\n",
              "      <th>0</th>\n",
              "      <td>1500</td>\n",
              "      <td>3</td>\n",
              "      <td>400000</td>\n",
              "    </tr>\n",
              "    <tr>\n",
              "      <th>1</th>\n",
              "      <td>1800</td>\n",
              "      <td>3</td>\n",
              "      <td>450000</td>\n",
              "    </tr>\n",
              "    <tr>\n",
              "      <th>2</th>\n",
              "      <td>2400</td>\n",
              "      <td>4</td>\n",
              "      <td>600000</td>\n",
              "    </tr>\n",
              "    <tr>\n",
              "      <th>3</th>\n",
              "      <td>3000</td>\n",
              "      <td>4</td>\n",
              "      <td>650000</td>\n",
              "    </tr>\n",
              "    <tr>\n",
              "      <th>4</th>\n",
              "      <td>3500</td>\n",
              "      <td>5</td>\n",
              "      <td>700000</td>\n",
              "    </tr>\n",
              "    <tr>\n",
              "      <th>5</th>\n",
              "      <td>4000</td>\n",
              "      <td>5</td>\n",
              "      <td>750000</td>\n",
              "    </tr>\n",
              "  </tbody>\n",
              "</table>\n",
              "</div>\n",
              "    <div class=\"colab-df-buttons\">\n",
              "\n",
              "  <div class=\"colab-df-container\">\n",
              "    <button class=\"colab-df-convert\" onclick=\"convertToInteractive('df-3687aa71-83de-4ec7-b08e-3b1bdea53abe')\"\n",
              "            title=\"Convert this dataframe to an interactive table.\"\n",
              "            style=\"display:none;\">\n",
              "\n",
              "  <svg xmlns=\"http://www.w3.org/2000/svg\" height=\"24px\" viewBox=\"0 -960 960 960\">\n",
              "    <path d=\"M120-120v-720h720v720H120Zm60-500h600v-160H180v160Zm220 220h160v-160H400v160Zm0 220h160v-160H400v160ZM180-400h160v-160H180v160Zm440 0h160v-160H620v160ZM180-180h160v-160H180v160Zm440 0h160v-160H620v160Z\"/>\n",
              "  </svg>\n",
              "    </button>\n",
              "\n",
              "  <style>\n",
              "    .colab-df-container {\n",
              "      display:flex;\n",
              "      gap: 12px;\n",
              "    }\n",
              "\n",
              "    .colab-df-convert {\n",
              "      background-color: #E8F0FE;\n",
              "      border: none;\n",
              "      border-radius: 50%;\n",
              "      cursor: pointer;\n",
              "      display: none;\n",
              "      fill: #1967D2;\n",
              "      height: 32px;\n",
              "      padding: 0 0 0 0;\n",
              "      width: 32px;\n",
              "    }\n",
              "\n",
              "    .colab-df-convert:hover {\n",
              "      background-color: #E2EBFA;\n",
              "      box-shadow: 0px 1px 2px rgba(60, 64, 67, 0.3), 0px 1px 3px 1px rgba(60, 64, 67, 0.15);\n",
              "      fill: #174EA6;\n",
              "    }\n",
              "\n",
              "    .colab-df-buttons div {\n",
              "      margin-bottom: 4px;\n",
              "    }\n",
              "\n",
              "    [theme=dark] .colab-df-convert {\n",
              "      background-color: #3B4455;\n",
              "      fill: #D2E3FC;\n",
              "    }\n",
              "\n",
              "    [theme=dark] .colab-df-convert:hover {\n",
              "      background-color: #434B5C;\n",
              "      box-shadow: 0px 1px 3px 1px rgba(0, 0, 0, 0.15);\n",
              "      filter: drop-shadow(0px 1px 2px rgba(0, 0, 0, 0.3));\n",
              "      fill: #FFFFFF;\n",
              "    }\n",
              "  </style>\n",
              "\n",
              "    <script>\n",
              "      const buttonEl =\n",
              "        document.querySelector('#df-3687aa71-83de-4ec7-b08e-3b1bdea53abe button.colab-df-convert');\n",
              "      buttonEl.style.display =\n",
              "        google.colab.kernel.accessAllowed ? 'block' : 'none';\n",
              "\n",
              "      async function convertToInteractive(key) {\n",
              "        const element = document.querySelector('#df-3687aa71-83de-4ec7-b08e-3b1bdea53abe');\n",
              "        const dataTable =\n",
              "          await google.colab.kernel.invokeFunction('convertToInteractive',\n",
              "                                                    [key], {});\n",
              "        if (!dataTable) return;\n",
              "\n",
              "        const docLinkHtml = 'Like what you see? Visit the ' +\n",
              "          '<a target=\"_blank\" href=https://colab.research.google.com/notebooks/data_table.ipynb>data table notebook</a>'\n",
              "          + ' to learn more about interactive tables.';\n",
              "        element.innerHTML = '';\n",
              "        dataTable['output_type'] = 'display_data';\n",
              "        await google.colab.output.renderOutput(dataTable, element);\n",
              "        const docLink = document.createElement('div');\n",
              "        docLink.innerHTML = docLinkHtml;\n",
              "        element.appendChild(docLink);\n",
              "      }\n",
              "    </script>\n",
              "  </div>\n",
              "\n",
              "\n",
              "<div id=\"df-2496cff0-e6bb-4a44-913b-ab6e618f9c91\">\n",
              "  <button class=\"colab-df-quickchart\" onclick=\"quickchart('df-2496cff0-e6bb-4a44-913b-ab6e618f9c91')\"\n",
              "            title=\"Suggest charts\"\n",
              "            style=\"display:none;\">\n",
              "\n",
              "<svg xmlns=\"http://www.w3.org/2000/svg\" height=\"24px\"viewBox=\"0 0 24 24\"\n",
              "     width=\"24px\">\n",
              "    <g>\n",
              "        <path d=\"M19 3H5c-1.1 0-2 .9-2 2v14c0 1.1.9 2 2 2h14c1.1 0 2-.9 2-2V5c0-1.1-.9-2-2-2zM9 17H7v-7h2v7zm4 0h-2V7h2v10zm4 0h-2v-4h2v4z\"/>\n",
              "    </g>\n",
              "</svg>\n",
              "  </button>\n",
              "\n",
              "<style>\n",
              "  .colab-df-quickchart {\n",
              "      --bg-color: #E8F0FE;\n",
              "      --fill-color: #1967D2;\n",
              "      --hover-bg-color: #E2EBFA;\n",
              "      --hover-fill-color: #174EA6;\n",
              "      --disabled-fill-color: #AAA;\n",
              "      --disabled-bg-color: #DDD;\n",
              "  }\n",
              "\n",
              "  [theme=dark] .colab-df-quickchart {\n",
              "      --bg-color: #3B4455;\n",
              "      --fill-color: #D2E3FC;\n",
              "      --hover-bg-color: #434B5C;\n",
              "      --hover-fill-color: #FFFFFF;\n",
              "      --disabled-bg-color: #3B4455;\n",
              "      --disabled-fill-color: #666;\n",
              "  }\n",
              "\n",
              "  .colab-df-quickchart {\n",
              "    background-color: var(--bg-color);\n",
              "    border: none;\n",
              "    border-radius: 50%;\n",
              "    cursor: pointer;\n",
              "    display: none;\n",
              "    fill: var(--fill-color);\n",
              "    height: 32px;\n",
              "    padding: 0;\n",
              "    width: 32px;\n",
              "  }\n",
              "\n",
              "  .colab-df-quickchart:hover {\n",
              "    background-color: var(--hover-bg-color);\n",
              "    box-shadow: 0 1px 2px rgba(60, 64, 67, 0.3), 0 1px 3px 1px rgba(60, 64, 67, 0.15);\n",
              "    fill: var(--button-hover-fill-color);\n",
              "  }\n",
              "\n",
              "  .colab-df-quickchart-complete:disabled,\n",
              "  .colab-df-quickchart-complete:disabled:hover {\n",
              "    background-color: var(--disabled-bg-color);\n",
              "    fill: var(--disabled-fill-color);\n",
              "    box-shadow: none;\n",
              "  }\n",
              "\n",
              "  .colab-df-spinner {\n",
              "    border: 2px solid var(--fill-color);\n",
              "    border-color: transparent;\n",
              "    border-bottom-color: var(--fill-color);\n",
              "    animation:\n",
              "      spin 1s steps(1) infinite;\n",
              "  }\n",
              "\n",
              "  @keyframes spin {\n",
              "    0% {\n",
              "      border-color: transparent;\n",
              "      border-bottom-color: var(--fill-color);\n",
              "      border-left-color: var(--fill-color);\n",
              "    }\n",
              "    20% {\n",
              "      border-color: transparent;\n",
              "      border-left-color: var(--fill-color);\n",
              "      border-top-color: var(--fill-color);\n",
              "    }\n",
              "    30% {\n",
              "      border-color: transparent;\n",
              "      border-left-color: var(--fill-color);\n",
              "      border-top-color: var(--fill-color);\n",
              "      border-right-color: var(--fill-color);\n",
              "    }\n",
              "    40% {\n",
              "      border-color: transparent;\n",
              "      border-right-color: var(--fill-color);\n",
              "      border-top-color: var(--fill-color);\n",
              "    }\n",
              "    60% {\n",
              "      border-color: transparent;\n",
              "      border-right-color: var(--fill-color);\n",
              "    }\n",
              "    80% {\n",
              "      border-color: transparent;\n",
              "      border-right-color: var(--fill-color);\n",
              "      border-bottom-color: var(--fill-color);\n",
              "    }\n",
              "    90% {\n",
              "      border-color: transparent;\n",
              "      border-bottom-color: var(--fill-color);\n",
              "    }\n",
              "  }\n",
              "</style>\n",
              "\n",
              "  <script>\n",
              "    async function quickchart(key) {\n",
              "      const quickchartButtonEl =\n",
              "        document.querySelector('#' + key + ' button');\n",
              "      quickchartButtonEl.disabled = true;  // To prevent multiple clicks.\n",
              "      quickchartButtonEl.classList.add('colab-df-spinner');\n",
              "      try {\n",
              "        const charts = await google.colab.kernel.invokeFunction(\n",
              "            'suggestCharts', [key], {});\n",
              "      } catch (error) {\n",
              "        console.error('Error during call to suggestCharts:', error);\n",
              "      }\n",
              "      quickchartButtonEl.classList.remove('colab-df-spinner');\n",
              "      quickchartButtonEl.classList.add('colab-df-quickchart-complete');\n",
              "    }\n",
              "    (() => {\n",
              "      let quickchartButtonEl =\n",
              "        document.querySelector('#df-2496cff0-e6bb-4a44-913b-ab6e618f9c91 button');\n",
              "      quickchartButtonEl.style.display =\n",
              "        google.colab.kernel.accessAllowed ? 'block' : 'none';\n",
              "    })();\n",
              "  </script>\n",
              "</div>\n",
              "\n",
              "  <div id=\"id_0c3465c5-ed22-4630-bb9a-8526a9820f3f\">\n",
              "    <style>\n",
              "      .colab-df-generate {\n",
              "        background-color: #E8F0FE;\n",
              "        border: none;\n",
              "        border-radius: 50%;\n",
              "        cursor: pointer;\n",
              "        display: none;\n",
              "        fill: #1967D2;\n",
              "        height: 32px;\n",
              "        padding: 0 0 0 0;\n",
              "        width: 32px;\n",
              "      }\n",
              "\n",
              "      .colab-df-generate:hover {\n",
              "        background-color: #E2EBFA;\n",
              "        box-shadow: 0px 1px 2px rgba(60, 64, 67, 0.3), 0px 1px 3px 1px rgba(60, 64, 67, 0.15);\n",
              "        fill: #174EA6;\n",
              "      }\n",
              "\n",
              "      [theme=dark] .colab-df-generate {\n",
              "        background-color: #3B4455;\n",
              "        fill: #D2E3FC;\n",
              "      }\n",
              "\n",
              "      [theme=dark] .colab-df-generate:hover {\n",
              "        background-color: #434B5C;\n",
              "        box-shadow: 0px 1px 3px 1px rgba(0, 0, 0, 0.15);\n",
              "        filter: drop-shadow(0px 1px 2px rgba(0, 0, 0, 0.3));\n",
              "        fill: #FFFFFF;\n",
              "      }\n",
              "    </style>\n",
              "    <button class=\"colab-df-generate\" onclick=\"generateWithVariable('df')\"\n",
              "            title=\"Generate code using this dataframe.\"\n",
              "            style=\"display:none;\">\n",
              "\n",
              "  <svg xmlns=\"http://www.w3.org/2000/svg\" height=\"24px\"viewBox=\"0 0 24 24\"\n",
              "       width=\"24px\">\n",
              "    <path d=\"M7,19H8.4L18.45,9,17,7.55,7,17.6ZM5,21V16.75L18.45,3.32a2,2,0,0,1,2.83,0l1.4,1.43a1.91,1.91,0,0,1,.58,1.4,1.91,1.91,0,0,1-.58,1.4L9.25,21ZM18.45,9,17,7.55Zm-12,3A5.31,5.31,0,0,0,4.9,8.1,5.31,5.31,0,0,0,1,6.5,5.31,5.31,0,0,0,4.9,4.9,5.31,5.31,0,0,0,6.5,1,5.31,5.31,0,0,0,8.1,4.9,5.31,5.31,0,0,0,12,6.5,5.46,5.46,0,0,0,6.5,12Z\"/>\n",
              "  </svg>\n",
              "    </button>\n",
              "    <script>\n",
              "      (() => {\n",
              "      const buttonEl =\n",
              "        document.querySelector('#id_0c3465c5-ed22-4630-bb9a-8526a9820f3f button.colab-df-generate');\n",
              "      buttonEl.style.display =\n",
              "        google.colab.kernel.accessAllowed ? 'block' : 'none';\n",
              "\n",
              "      buttonEl.onclick = () => {\n",
              "        google.colab.notebook.generateWithVariable('df');\n",
              "      }\n",
              "      })();\n",
              "    </script>\n",
              "  </div>\n",
              "\n",
              "    </div>\n",
              "  </div>\n"
            ],
            "application/vnd.google.colaboratory.intrinsic+json": {
              "type": "dataframe",
              "variable_name": "df",
              "summary": "{\n  \"name\": \"df\",\n  \"rows\": 6,\n  \"fields\": [\n    {\n      \"column\": \"Area\",\n      \"properties\": {\n        \"dtype\": \"number\",\n        \"std\": 975,\n        \"min\": 1500,\n        \"max\": 4000,\n        \"num_unique_values\": 6,\n        \"samples\": [\n          1500,\n          1800,\n          4000\n        ],\n        \"semantic_type\": \"\",\n        \"description\": \"\"\n      }\n    },\n    {\n      \"column\": \"Bedrooms\",\n      \"properties\": {\n        \"dtype\": \"number\",\n        \"std\": 0,\n        \"min\": 3,\n        \"max\": 5,\n        \"num_unique_values\": 3,\n        \"samples\": [\n          3,\n          4,\n          5\n        ],\n        \"semantic_type\": \"\",\n        \"description\": \"\"\n      }\n    },\n    {\n      \"column\": \"Price\",\n      \"properties\": {\n        \"dtype\": \"number\",\n        \"std\": 139343,\n        \"min\": 400000,\n        \"max\": 750000,\n        \"num_unique_values\": 6,\n        \"samples\": [\n          400000,\n          450000,\n          750000\n        ],\n        \"semantic_type\": \"\",\n        \"description\": \"\"\n      }\n    }\n  ]\n}"
            }
          },
          "metadata": {},
          "execution_count": 31
        }
      ]
    },
    {
      "cell_type": "code",
      "source": [
        "# Features and target\n",
        "X = df[['Area', 'Bedrooms']].values\n",
        "y = df['Price'].values"
      ],
      "metadata": {
        "id": "CW9eSQMrdE8e"
      },
      "execution_count": 32,
      "outputs": []
    },
    {
      "cell_type": "code",
      "source": [
        "X"
      ],
      "metadata": {
        "colab": {
          "base_uri": "https://localhost:8080/"
        },
        "id": "B-XqjxfFeOmi",
        "outputId": "be9b026e-4d68-42a0-e271-30c3ae37307c"
      },
      "execution_count": 33,
      "outputs": [
        {
          "output_type": "execute_result",
          "data": {
            "text/plain": [
              "array([[1500,    3],\n",
              "       [1800,    3],\n",
              "       [2400,    4],\n",
              "       [3000,    4],\n",
              "       [3500,    5],\n",
              "       [4000,    5]])"
            ]
          },
          "metadata": {},
          "execution_count": 33
        }
      ]
    },
    {
      "cell_type": "code",
      "source": [
        "y"
      ],
      "metadata": {
        "colab": {
          "base_uri": "https://localhost:8080/"
        },
        "id": "PTWduTh9eM2C",
        "outputId": "6ad3f966-778a-437c-c8f1-33d6ea1150c9"
      },
      "execution_count": 34,
      "outputs": [
        {
          "output_type": "execute_result",
          "data": {
            "text/plain": [
              "array([400000, 450000, 600000, 650000, 700000, 750000])"
            ]
          },
          "metadata": {},
          "execution_count": 34
        }
      ]
    },
    {
      "cell_type": "markdown",
      "source": [
        "# Why Do We Need Normalization?\n",
        "**Imagine You Have Two Things to Compare:**\n",
        "\n",
        "Let's say you have two things: the size of your house (in square feet) and the number of bedrooms. The size of the house might be something like 1500 square feet, while the number of bedrooms might be 3.\n",
        "If you try to compare these two numbers directly, the size of the house (1500) is much bigger than the number of bedrooms (3). This can make it hard for the computer to understand how important each one is.\n",
        "\n",
        "**Making Everything the Same Size:**\n",
        "\n",
        "Normalization helps by changing all the numbers so they are around the same size. This way, the computer can compare them more easily."
      ],
      "metadata": {
        "id": "Wu44tRk5fEfJ"
      }
    },
    {
      "cell_type": "code",
      "source": [
        "X_mean, X_std = X.mean(axis=0), X.std(axis=0)\n",
        "X = (X - X_mean) / X_std"
      ],
      "metadata": {
        "id": "jDRcSIAXedmP"
      },
      "execution_count": 35,
      "outputs": []
    },
    {
      "cell_type": "code",
      "source": [
        "X"
      ],
      "metadata": {
        "colab": {
          "base_uri": "https://localhost:8080/"
        },
        "id": "xUl3xbrOetZk",
        "outputId": "7bcff5dd-be02-44e9-d296-10726abfef6e"
      },
      "execution_count": 36,
      "outputs": [
        {
          "output_type": "execute_result",
          "data": {
            "text/plain": [
              "array([[-1.34726614, -1.22474487],\n",
              "       [-1.0104496 , -1.22474487],\n",
              "       [-0.33681653,  0.        ],\n",
              "       [ 0.33681653,  0.        ],\n",
              "       [ 0.89817743,  1.22474487],\n",
              "       [ 1.45953832,  1.22474487]])"
            ]
          },
          "metadata": {},
          "execution_count": 36
        }
      ]
    },
    {
      "cell_type": "code",
      "source": [
        "X_mean"
      ],
      "metadata": {
        "colab": {
          "base_uri": "https://localhost:8080/"
        },
        "id": "hCAsT9M0xat9",
        "outputId": "d9a3cece-cf7d-473a-a1d6-d3459524e3fb"
      },
      "execution_count": 37,
      "outputs": [
        {
          "output_type": "execute_result",
          "data": {
            "text/plain": [
              "array([2700.,    4.])"
            ]
          },
          "metadata": {},
          "execution_count": 37
        }
      ]
    },
    {
      "cell_type": "code",
      "source": [
        "X_std"
      ],
      "metadata": {
        "colab": {
          "base_uri": "https://localhost:8080/"
        },
        "id": "vk9IaU-Jxg3t",
        "outputId": "a357c191-78fc-4ddc-80dc-21625b0a1a22"
      },
      "execution_count": 38,
      "outputs": [
        {
          "output_type": "execute_result",
          "data": {
            "text/plain": [
              "array([8.90692614e+02, 8.16496581e-01])"
            ]
          },
          "metadata": {},
          "execution_count": 38
        }
      ]
    },
    {
      "cell_type": "code",
      "source": [
        "y_mean, y_std = y.mean(), y.std()\n",
        "y = (y - y_mean) / y_std"
      ],
      "metadata": {
        "id": "tyJE0HyyeuOt"
      },
      "execution_count": 39,
      "outputs": []
    },
    {
      "cell_type": "code",
      "source": [
        "y_mean"
      ],
      "metadata": {
        "colab": {
          "base_uri": "https://localhost:8080/"
        },
        "id": "PjBgrJC3e13U",
        "outputId": "cc656a5b-fafc-4346-c977-2a813333170c"
      },
      "execution_count": 50,
      "outputs": [
        {
          "output_type": "execute_result",
          "data": {
            "text/plain": [
              "591666.6666666666"
            ]
          },
          "metadata": {},
          "execution_count": 50
        }
      ]
    },
    {
      "cell_type": "code",
      "source": [
        "y_std"
      ],
      "metadata": {
        "colab": {
          "base_uri": "https://localhost:8080/"
        },
        "id": "bvs7mvu7yxS3",
        "outputId": "94edc3e6-ad15-495f-b540-ffcc29756d8b"
      },
      "execution_count": 51,
      "outputs": [
        {
          "output_type": "execute_result",
          "data": {
            "text/plain": [
              "127202.81268728123"
            ]
          },
          "metadata": {},
          "execution_count": 51
        }
      ]
    },
    {
      "cell_type": "markdown",
      "source": [
        "### **Example:**  \n",
        "\n",
        "Let's say you have these numbers for **Area** and **Bedrooms**:  \n",
        "\n",
        "---  \n",
        "\n",
        "**Area:** [1500, 1800, 2400]  \n",
        "**Bedrooms:** [3, 3, 4]  \n",
        "\n",
        "---  \n",
        "\n",
        "### **1️⃣ Calculate the Mean:**  \n",
        "The mean (average) helps us find the center of the data.  \n",
        "\n",
        "- **X_mean for Area** = (1500 + 1800 + 2400) / 3 = **1900**  \n",
        "- **X_mean for Bedrooms** = (3 + 3 + 4) / 3 = **3.33**  \n",
        "\n",
        "---  \n",
        "\n",
        "### **2️⃣ Calculate the Standard Deviation:**  \n",
        "The standard deviation (spread) shows how much the values vary from the mean.  \n",
        "\n",
        "- **X_std for Area** ≈ **404**  \n",
        "- **X_std for Bedrooms** ≈ **0.58**  \n",
        "\n",
        "---  \n",
        "\n",
        "### **3️⃣ Normalize the Numbers:**  \n",
        "We use the formula:  \n",
        "\n",
        "$X_{\\text{normalized}} = \\frac{X - \\text{mean}}{\\text{std}}$\n",
        "\n",
        "**For Area:**  \n",
        "\n",
        "- (1500 - 1900) / 404 ≈ **-0.99**  \n",
        "- (1800 - 1900) / 404 ≈ **-0.25**  \n",
        "- (2400 - 1900) / 404 ≈ **1.24**  \n",
        "\n",
        "**For Bedrooms:**  \n",
        "\n",
        "- (3 - 3.33) / 0.58 ≈ **-0.57**  \n",
        "- (3 - 3.33) / 0.58 ≈ **-0.57**  \n",
        "- (4 - 3.33) / 0.58 ≈ **1.16**  \n",
        "\n",
        "---\n",
        "\n",
        "### **🔹 Why Do We Do This?**  \n",
        "Now, all the numbers are **around the same size**, making it easier for the computer to work with them.  \n",
        "\n",
        "---\n",
        "\n",
        "### **🔹 Why Do We Normalize the Target (y)?**  \n",
        "The same idea applies to the **target variable (Price)**.  \n",
        "By normalizing **y**, we make sure that the predictions the model makes are also on the **same scale**.  \n",
        "This helps the model **learn better and faster**.  \n",
        "\n",
        "---\n",
        "\n",
        "### **📌 Summary:**  \n",
        "✅ **Normalization makes all the numbers similar in size.**  \n",
        "✅ **It helps the model compare different features easily.**  \n",
        "✅ **It improves the learning process and speeds up training.**  \n",
        "\n",
        "🚀 **By normalizing, the model can learn faster and make better predictions!**"
      ],
      "metadata": {
        "id": "CVK-b5k5fVwP"
      }
    },
    {
      "cell_type": "markdown",
      "source": [
        "# Add ones column for bias term"
      ],
      "metadata": {
        "id": "D-emzNn8kFIs"
      }
    },
    {
      "cell_type": "code",
      "source": [
        "X = np.c_[np.ones(len(X)), X]"
      ],
      "metadata": {
        "id": "tnCO1U8cjXWL"
      },
      "execution_count": 41,
      "outputs": []
    },
    {
      "cell_type": "code",
      "source": [
        "X"
      ],
      "metadata": {
        "colab": {
          "base_uri": "https://localhost:8080/"
        },
        "id": "abFopv77kKCD",
        "outputId": "a53c1f8b-bd44-4556-c5a9-3844948526d4"
      },
      "execution_count": 42,
      "outputs": [
        {
          "output_type": "execute_result",
          "data": {
            "text/plain": [
              "array([[ 1.        , -1.34726614, -1.22474487],\n",
              "       [ 1.        , -1.0104496 , -1.22474487],\n",
              "       [ 1.        , -0.33681653,  0.        ],\n",
              "       [ 1.        ,  0.33681653,  0.        ],\n",
              "       [ 1.        ,  0.89817743,  1.22474487],\n",
              "       [ 1.        ,  1.45953832,  1.22474487]])"
            ]
          },
          "metadata": {},
          "execution_count": 42
        }
      ]
    },
    {
      "cell_type": "markdown",
      "source": [
        "💡 **Why do we add ones (1) to X?**  \n",
        "\n",
        "In **linear regression**, the formula to predict the price is:  \n",
        "\n",
        "**Price = θ₀ + θ₁ × Area + θ₂ × Bedrooms**  \n",
        "\n",
        "### **Here:**  \n",
        "- **θ₀** is a special number called the **intercept (or bias)**.  \n",
        "- **θ₁** and **θ₂** are numbers that help the model learn the relationship between price, area, and bedrooms.  \n",
        "\n",
        "To make this work in **matrix form**, we **add a column of ones (1) to X**, so the equation becomes:  \n",
        "\n",
        "**Price = 1 × θ₀ + Area × θ₁ + Bedrooms × θ₂**  \n",
        "\n",
        "This ensures the model correctly learns **θ₀ (the starting point)** while adjusting for Area and Bedrooms. 🚀\n",
        "\n",
        "\n",
        "\n",
        "---\n",
        "\n",
        "\n",
        "\n",
        "💡 **Simple Analogy 🎈**  \n",
        "\n",
        "Think of **θ₀ (theta zero)** like a **starting point in a race**.  \n",
        "\n",
        "- If you **don't add `1`**, the model **doesn’t know where to start!**  \n",
        "- By adding `1`, you tell the model, **“Hey, start from here!”** before adjusting for Area and Bedrooms.  \n",
        "\n",
        "This helps the model make better predictions by including the **intercept (bias)** in the learning process. 🚀"
      ],
      "metadata": {
        "id": "INO2IRaWlzqi"
      }
    },
    {
      "cell_type": "markdown",
      "source": [
        "# Gradient Descent Function"
      ],
      "metadata": {
        "id": "zVBSpZZunhqv"
      }
    },
    {
      "cell_type": "code",
      "source": [
        "def gradient_descent(X, y, theta, alpha, iterations):\n",
        "    m = len(y)\n",
        "    for _ in range(iterations):\n",
        "        theta -= (alpha / m) * X.T @ (X @ theta - y)\n",
        "    return theta"
      ],
      "metadata": {
        "id": "dXRGPevEjXYk"
      },
      "execution_count": 43,
      "outputs": []
    },
    {
      "cell_type": "markdown",
      "source": [
        "### **Gradient Descent Example**\n",
        "\n",
        "#### **Introduction**\n",
        "Gradient descent is an optimization algorithm used to minimize a cost function. In this example, we will use gradient descent to fit a linear regression model to a simple dataset. The goal is to find the best parameters (coefficients) for the model that minimize the difference between the predicted values and the actual values.\n",
        "\n",
        "---\n",
        "\n",
        "#### **Dataset**\n",
        "We have a small dataset with two features (Feature 1 and Feature 2) and one target variable (Target):\n",
        "\n",
        "| Feature 1 (x1) | Feature 2 (x2) | Target (y) |\n",
        "|----------------|----------------|------------|\n",
        "| 1              | 2              | 3          |\n",
        "| 4              | 5              | 6          |\n",
        "| 7              | 8              | 9          |\n",
        "\n",
        "---\n",
        "\n",
        "### **Steps**\n",
        "\n",
        "#### **1. Initialize Variables:**\n",
        "\n",
        "- **Feature matrix X:**\n",
        "\n",
        "\n",
        "X = \\begin{bmatrix} 1 & 1 & 1 \\\\ 1 & 4 & 5 \\\\ 1 & 7 & 8 \\end{bmatrix}\n",
        "\n",
        "\n",
        "- **Target vector y:**\n",
        "\n",
        "\n",
        "y = \\begin{bmatrix} 3 \\\\ 6 \\\\ 9 \\end{bmatrix}\n",
        "\n",
        "- **Initial model parameters θ:**\n",
        "\n",
        "theta = \\begin{bmatrix} 0 \\\\ 0 \\end{bmatrix}\n",
        "\n",
        "\n",
        "- **Learning rate α:**\n",
        "\n",
        "\n",
        "\\[\n",
        "\\alpha = 0.01 \\quad \\text{(Learning rate, step size for each update)}\n",
        "\\]\n",
        "\n",
        "This makes it clear that **\\(alpha\\)** is the learning rate, which controls the step size during each update of the parameters.\n",
        "\n",
        "- **Number of iterations:**\n",
        "\n",
        "\\[\n",
        "\\text{iterations} = 1000 \\quad \\text{(Number of times we want to update theta)}\n",
        "\\]\n",
        "\n",
        "---\n",
        "\n",
        "#### **2. Add Bias Term:**\n",
        "\n",
        "We add a column of ones to the **X** matrix to account for the bias term (θ₀):\n",
        "\n",
        "\\[\n",
        "X = \\begin{bmatrix} 1 & 1 & 1 \\\\ 1 & 4 & 5 \\\\ 1 & 7 & 8 \\end{bmatrix}\n",
        "\\]\n",
        "\n",
        "Now **X** has an extra column that represents the bias term.\n",
        "\n",
        "---\n",
        "\n",
        "#### **3. Gradient Descent Formula:**\n",
        "\n",
        "The **gradient_descent** function will iteratively update **theta** using the formula:\n",
        "\n",
        "\\[\n",
        "\\theta = \\theta - \\frac{\\alpha}{m} X^T (X\\theta - y)\n",
        "\\]\n",
        "\n",
        "Where:\n",
        "\n",
        "- **m = 3** is the number of data points.\n",
        "- **α = 0.01** is the learning rate.\n",
        "- **X** is the feature matrix (with the bias column added).\n",
        "- **y** is the target vector.\n",
        "- **θ** are the parameters (weights) we are trying to learn.\n",
        "\n",
        "---\n",
        "\n",
        "#### **4. Example Calculation:**\n",
        "\n",
        "Let's go through one iteration of the gradient descent process.\n",
        "\n",
        "##### **Initial Prediction:**\n",
        "\n",
        "We calculate the initial prediction using the current **theta** (which is `[0, 0, 0]` initially):\n",
        "\n",
        "\\[\n",
        "X\\theta = \\begin{bmatrix} 1 & 1 & 1 \\\\ 1 & 4 & 5 \\\\ 1 & 7 & 8 \\end{bmatrix} \\begin{bmatrix} 0 \\\\ 0 \\\\ 0 \\end{bmatrix} = \\begin{bmatrix} 0 \\\\ 0 \\\\ 0 \\end{bmatrix}\n",
        "\\]\n",
        "\n",
        "So, the initial prediction is `0` for each data point.\n",
        "\n",
        "##### **Error:**\n",
        "\n",
        "Now we calculate the error (the difference between the predicted value and the actual target values):\n",
        "\n",
        "\\[\n",
        "X\\theta - y = \\begin{bmatrix} 0 \\\\ 0 \\\\ 0 \\end{bmatrix} - \\begin{bmatrix} 3 \\\\ 6 \\\\ 9 \\end{bmatrix} = \\begin{bmatrix} -3 \\\\ -6 \\\\ -9 \\end{bmatrix}\n",
        "\\]\n",
        "\n",
        "##### **Gradient:**\n",
        "\n",
        "Next, we calculate the gradient, which tells us how much we need to adjust the parameters:\n",
        "\n",
        "\\[\n",
        "X^T (X\\theta - y) = \\begin{bmatrix} 1 & 1 & 1 \\\\ 1 & 4 & 5 \\\\ 1 & 7 & 8 \\end{bmatrix}^T \\begin{bmatrix} -3 \\\\ -6 \\\\ -9 \\end{bmatrix}\n",
        "\\]\n",
        "\n",
        "This will give:\n",
        "\n",
        "\\[\n",
        "\\text{gradient} = \\begin{bmatrix} -18 \\\\ -87 \\\\ -126 \\end{bmatrix}\n",
        "\\]\n",
        "\n",
        "##### **Update Theta:**\n",
        "\n",
        "Now, we update the values of **theta** using the gradient and learning rate **α**:\n",
        "\n",
        "\\[\n",
        "\\theta = \\theta - \\frac{\\alpha}{m} \\text{gradient}\n",
        "\\]\n",
        "\n",
        "\\[\n",
        "\\theta = \\begin{bmatrix} 0 \\\\ 0 \\\\ 0 \\end{bmatrix} - \\frac{0.01}{3} \\begin{bmatrix} -18 \\\\ -87 \\\\ -126 \\end{bmatrix}\n",
        "\\]\n",
        "\n",
        "\\[\n",
        "\\theta = \\begin{bmatrix} 0 \\\\ 0 \\\\ 0 \\end{bmatrix} + \\begin{bmatrix} 0.06 \\\\ 0.29 \\\\ 0.42 \\end{bmatrix}\n",
        "\\]\n",
        "\n",
        "\\[\n",
        "\\theta = \\begin{bmatrix} 0.06 \\\\ 0.29 \\\\ 0.42 \\end{bmatrix}\n",
        "\\]\n",
        "\n",
        "After one iteration, **theta** is updated to `[0.06, 0.29, 0.42]`.\n",
        "\n",
        "---\n",
        "\n",
        "### **Summary:**\n",
        "\n",
        "- **Gradient Descent:** The function iteratively updates **theta** to minimize the error (difference between predicted and actual values).\n",
        "- **Learning Rate (α):** Controls the size of the steps taken towards minimizing the error. If it's too large, we may overshoot; if it's too small, the process will be slow.\n",
        "- **Iterations:** The number of times the function will update **theta**. More iterations generally lead to better results.\n",
        "- By running the **gradient_descent** function for enough iterations, **theta** will converge to values that minimize the error and make the predictions as accurate as possible.\n",
        "\n",
        "---\n",
        "\n",
        "### **Making Predictions**\n",
        "\n",
        "Once the model parameters are optimized, you can use them to make predictions on new data points. For example, if you have a new data point with Feature 1 = 3 and Feature 2 = 4, you can predict the target value using the optimized parameters.\n"
      ],
      "metadata": {
        "id": "-ma3v3XnntI1"
      }
    },
    {
      "cell_type": "markdown",
      "source": [
        "# Initialize theta, learning rate, and iterations"
      ],
      "metadata": {
        "id": "naJDmPUosDYn"
      }
    },
    {
      "cell_type": "code",
      "source": [
        "\n",
        "theta = np.zeros(X.shape[1])\n",
        "alpha = 0.1  # Adjusted learning rate\n",
        "iterations = 1000"
      ],
      "metadata": {
        "id": "LsjLXkf2sBVm"
      },
      "execution_count": 44,
      "outputs": []
    },
    {
      "cell_type": "code",
      "source": [
        "# Train model\n",
        "theta = gradient_descent(X, y, theta, alpha, iterations)"
      ],
      "metadata": {
        "id": "oIKRHjWjsHWN"
      },
      "execution_count": 45,
      "outputs": []
    },
    {
      "cell_type": "code",
      "source": [
        "theta"
      ],
      "metadata": {
        "colab": {
          "base_uri": "https://localhost:8080/"
        },
        "id": "s45Ykmt5yI5-",
        "outputId": "abc870db-d73d-4221-8659-ff0c1114819c"
      },
      "execution_count": 46,
      "outputs": [
        {
          "output_type": "execute_result",
          "data": {
            "text/plain": [
              "array([2.82814137e-16, 6.95395195e-01, 2.93667900e-01])"
            ]
          },
          "metadata": {},
          "execution_count": 46
        }
      ]
    },
    {
      "cell_type": "code",
      "source": [
        "# Prediction function\n",
        "def predict(area, bedrooms):\n",
        "    # Standardize input using training mean/std\n",
        "    area = (area - X_mean[0]) / X_std[0]\n",
        "    bedrooms = (bedrooms - X_mean[1]) / X_std[1]\n",
        "\n",
        "    # Compute predicted value (denormalized)\n",
        "    normalized_price = theta[0] + theta[1] * area + theta[2] * bedrooms\n",
        "    return normalized_price * y_std + y_mean"
      ],
      "metadata": {
        "id": "wSVrmOb_sa5S"
      },
      "execution_count": 47,
      "outputs": []
    },
    {
      "cell_type": "markdown",
      "source": [
        "Here’s the explanation written as Google Colab text that you can directly use in your notebook:\n",
        "\n",
        "---\n",
        "\n",
        "### **Prediction Example**\n",
        "\n",
        "#### **Given Values:**\n",
        "- **area = 5000** (square feet)\n",
        "- **bedrooms = 6**\n",
        "- **X_mean = [2700, 4]** (mean of area and bedrooms)\n",
        "- **X_std = [890.692614, 0.816496581]** (standard deviation of area and bedrooms)\n",
        "- **y_mean = 591666.6666666666** (mean of the target variable, price)\n",
        "- **y_std = 127202.81268728123** (standard deviation of the target variable, price)\n",
        "- **theta = [2.82814137e-16, 6.95395195e-01, 2.93667900e-01]** (model coefficients for the intercept, area, and bedrooms)\n",
        "\n",
        "---\n",
        "\n",
        "### **Step 1: Standardization of Inputs**\n",
        "\n",
        "We first standardize the inputs (area and bedrooms) using **X_mean** and **X_std**.\n",
        "\n",
        "- **Standardized area**:\n",
        "\n",
        "\\[\n",
        "\\text{standardized area} = \\frac{5000 - 2700}{890.692614} = \\frac{2300}{890.692614} \\approx 2.58\n",
        "\\]\n",
        "\n",
        "- **Standardized bedrooms**:\n",
        "\n",
        "\\[\n",
        "\\text{standardized bedrooms} = \\frac{6 - 4}{0.816496581} = \\frac{2}{0.816496581} \\approx 2.45\n",
        "\\]\n",
        "\n",
        "---\n",
        "\n",
        "### **Step 2: Compute the Predicted Value (Normalized)**\n",
        "\n",
        "Now, we compute the **normalized price** using the **theta** values:\n",
        "\n",
        "\\[\n",
        "\\text{normalized price} = \\theta[0] + \\theta[1] \\times \\text{standardized area} + \\theta[2] \\times \\text{standardized bedrooms}\n",
        "\\]\n",
        "\\[\n",
        "\\text{normalized price} = 2.82814137 \\times 10^{-16} + 0.695395195 \\times 2.58 + 0.2936679 \\times 2.45\n",
        "\\]\n",
        "\\[\n",
        "\\text{normalized price} \\approx 0 + 1.793 + 0.720\n",
        "\\]\n",
        "\\[\n",
        "\\text{normalized price} \\approx 2.513\n",
        "\\]\n",
        "\n",
        "---\n",
        "\n",
        "### **Step 3: Denormalization**\n",
        "\n",
        "Finally, we denormalize the **normalized price** using **y_mean** and **y_std**:\n",
        "\n",
        "\\[\n",
        "\\text{price} = (\\text{normalized price} \\times y_{\\text{std}}) + y_{\\text{mean}}\n",
        "\\]\n",
        "\\[\n",
        "\\text{price} = (2.513 \\times 127202.81268728123) + 591666.6666666666\n",
        "\\]\n",
        "\\[\n",
        "\\text{price} \\approx 319116.84 + 591666.67 = 910783.51\n",
        "\\]\n",
        "\n",
        "---\n",
        "\n",
        "### **Final Predicted Price:**\n",
        "\n",
        "The predicted price for an area of **5000 sqft** and **6 bedrooms** is approximately **$910,783.51**, which matches closely with the previous prediction.\n",
        "\n",
        "---\n",
        "\n",
        "Let me know if you need further explanations!"
      ],
      "metadata": {
        "id": "OYZSYe6ZzYUS"
      }
    },
    {
      "cell_type": "code",
      "source": [
        "# Predict for 5000 sqft, 6 bedrooms\n",
        "predicted_price = predict(5000, 6)\n",
        "print(f\"Predicted price for 5000 sqft and 6 bedrooms: ${predicted_price:.2f}\")"
      ],
      "metadata": {
        "colab": {
          "base_uri": "https://localhost:8080/"
        },
        "id": "EWvsGKoisr2n",
        "outputId": "7683fc32-99ef-43b0-a15b-ee3e9b45c318"
      },
      "execution_count": 48,
      "outputs": [
        {
          "output_type": "stream",
          "name": "stdout",
          "text": [
            "Predicted price for 5000 sqft and 6 bedrooms: $911585.27\n"
          ]
        }
      ]
    },
    {
      "cell_type": "code",
      "source": [],
      "metadata": {
        "id": "fVPfdGnussi3"
      },
      "execution_count": 48,
      "outputs": []
    }
  ]
}